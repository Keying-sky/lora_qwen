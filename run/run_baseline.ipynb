{
 "cells": [
  {
   "cell_type": "code",
   "execution_count": 2,
   "metadata": {},
   "outputs": [],
   "source": [
    "import pickle\n",
    "import torch\n",
    "from pathlib import Path\n",
    "\n",
    "from lora_qwen import load_qwen, examples, evaluate_model, plot_examples"
   ]
  },
  {
   "cell_type": "markdown",
   "metadata": {},
   "source": [
    "### <p align=\"center\"> Question 2a </p>"
   ]
  },
  {
   "cell_type": "code",
   "execution_count": null,
   "metadata": {},
   "outputs": [
    {
     "name": "stdout",
     "output_type": "stream",
     "text": [
      "--------------------  Raw examples  --------------------\n",
      "Example 1:\n",
      "[[1.1134748  0.89863425]\n",
      " [1.0238073  0.7592776 ]\n",
      " [1.034037   0.63355225]\n",
      " [1.1286649  0.53771913]\n",
      " [1.2988898  0.47569734]\n",
      " [1.535536   0.44796333]\n",
      " [1.817316   0.45610216]\n",
      " [2.0980427  0.50436854]\n",
      " [2.3006318  0.59759706]\n",
      " [2.3351126  0.73248017]]\n",
      "\n",
      "Example 2:\n",
      "[[1.0745254  0.9082669 ]\n",
      " [0.7690028  0.8464271 ]\n",
      " [0.58893186 0.71531194]\n",
      " [0.50618714 0.5717579 ]\n",
      " [0.48869076 0.44753164]\n",
      " [0.5195029  0.3515796 ]\n",
      " [0.5932945  0.28261527]\n",
      " [0.7110491  0.23674858]\n",
      " [0.8759652  0.21038987]\n",
      " [1.0897704  0.20152093]]\n",
      "\n",
      "-------------------------------------  Preprocessed examples  -------------------------------------\n",
      "Example 1:\n",
      "0.11,0.09;0.10,0.08;0.10,0.06;0.11,0.05;0.13,0.05;0.15,0.04;0.18,0.05;0.21,0.05;0.23,0.06;0.23,0.07\n",
      "\n",
      "Example 2:\n",
      "0.11,0.09;0.08,0.08;0.06,0.07;0.05,0.06;0.05,0.04;0.05,0.04;0.06,0.03;0.07,0.02;0.09,0.02;0.11,0.02\n",
      "\n",
      "---------------------------------------  Tokenized examples  ---------------------------------------\n",
      "Example 1:\n",
      "tensor([15, 13, 16, 16, 11, 15, 13, 15, 24, 26, 15, 13, 16, 15, 11, 15, 13, 15,\n",
      "        23, 26, 15, 13, 16, 15, 11, 15, 13, 15, 21, 26, 15, 13, 16, 16, 11, 15,\n",
      "        13, 15, 20, 26, 15, 13, 16, 18, 11, 15, 13, 15, 20, 26, 15, 13, 16, 20,\n",
      "        11, 15, 13, 15, 19, 26, 15, 13, 16, 23, 11, 15, 13, 15, 20, 26, 15, 13,\n",
      "        17, 16, 11, 15, 13, 15, 20, 26, 15, 13, 17, 18, 11, 15, 13, 15, 21, 26,\n",
      "        15, 13, 17, 18, 11, 15, 13, 15, 22])\n",
      "\n",
      "Example 2:\n",
      "tensor([15, 13, 16, 16, 11, 15, 13, 15, 24, 26, 15, 13, 15, 23, 11, 15, 13, 15,\n",
      "        23, 26, 15, 13, 15, 21, 11, 15, 13, 15, 22, 26, 15, 13, 15, 20, 11, 15,\n",
      "        13, 15, 21, 26, 15, 13, 15, 20, 11, 15, 13, 15, 19, 26, 15, 13, 15, 20,\n",
      "        11, 15, 13, 15, 19, 26, 15, 13, 15, 21, 11, 15, 13, 15, 18, 26, 15, 13,\n",
      "        15, 22, 11, 15, 13, 15, 17, 26, 15, 13, 15, 24, 11, 15, 13, 15, 17, 26,\n",
      "        15, 13, 16, 16, 11, 15, 13, 15, 17])\n",
      "\n"
     ]
    }
   ],
   "source": [
    "parent_dir = Path().resolve().parent \n",
    "data_path = parent_dir/\"data/lotka_volterra_data.h5\"   \n",
    "results_path = parent_dir/\"results/baseline_results\"\n",
    "results_path.mkdir(exist_ok=True)\n",
    "\n",
    "raws, preprocesseds, tokenizeds = examples(data_path, nexamples=2, ntimes=10)\n",
    "\n",
    "print(\"-\"*20, \" Raw examples \", \"-\"*20)\n",
    "for i, example in enumerate(raws):\n",
    "    print(f\"Example {i+1}:\")\n",
    "    print(example)\n",
    "    print()\n",
    "\n",
    "print(\"-\"*37, \" Preprocessed examples \",\"-\"*37)\n",
    "for i, example in enumerate(preprocesseds):\n",
    "    print(f\"Example {i+1}:\")\n",
    "    print(example)\n",
    "    print()\n",
    "\n",
    "print(\"-\"*39, \" Tokenized examples \",\"-\"*39)\n",
    "for i, example in enumerate(tokenizeds):\n",
    "    print(f\"Example {i+1}:\")\n",
    "    print(example)\n",
    "    print()\n",
    "\n",
    "# write and save results\n",
    "with open(results_path / \"preprocessing_examples.txt\", \"w\") as f:\n",
    "    f.write(\"-\"*20+ \" Raw examples \"+\"-\"*20+\"\\n\")\n",
    "    for i, example in enumerate(raws):\n",
    "        f.write(f\"Example {i+1}:\\n\")\n",
    "        f.write(str(example))\n",
    "        f.write(\"\\n\\n\")\n",
    "    \n",
    "    f.write(\"-\"*37+ \" Preprocessed examples \"+\"-\"*37+\"\\n\")\n",
    "    for i, example in enumerate(preprocesseds):\n",
    "        f.write(f\"Example {i+1}:\\n\")\n",
    "        f.write(example)\n",
    "        f.write(\"\\n\\n\")\n",
    "    \n",
    "    f.write(\"-\"*39+\" Tokenized examples \"+\"-\"*39+\"\\n\")\n",
    "    for i, example in enumerate(tokenizeds):\n",
    "        f.write(f\"Example {i+1}:\\n\")\n",
    "        f.write(str(example))\n",
    "        f.write(\"\\n\\n\")\n"
   ]
  },
  {
   "cell_type": "markdown",
   "metadata": {},
   "source": [
    "### <p align=\"center\"> Question 2b </p>"
   ]
  },
  {
   "cell_type": "code",
   "execution_count": null,
   "metadata": {},
   "outputs": [
    {
     "name": "stdout",
     "output_type": "stream",
     "text": [
      "Device: cpu\n"
     ]
    },
    {
     "name": "stderr",
     "output_type": "stream",
     "text": [
      "Evaluating model: 100%|██████████| 10/10 [02:22<00:00, 14.21s/it]\n"
     ]
    },
    {
     "name": "stdout",
     "output_type": "stream",
     "text": [
      "\n",
      "---------------- Metrics for untrained model ----------------\n",
      "MSE: 0.2747\n",
      "MAE: 0.3066\n",
      "R2: 0.2463\n",
      "Prey_MSE: 0.4215\n",
      "Predator_MSE: 0.1279\n"
     ]
    }
   ],
   "source": [
    "parent_dir = Path().resolve().parent \n",
    "data_path = parent_dir/\"data/lotka_volterra_data.h5\"   \n",
    "results_path = parent_dir/\"results/baseline_results\" \n",
    "results_path.mkdir(exist_ok=True)\n",
    "\n",
    "device = torch.device(\"cuda\" if torch.cuda.is_available() else \"cpu\")\n",
    "print(f\"Device: {device}\")\n",
    "\n",
    "model, tokenizer = load_qwen()\n",
    "\n",
    "metrics, forecasts, actuals = evaluate_model(model, tokenizer, data_path, cxt_len=50, nsamples=10, ntimes=10)\n",
    "\n",
    "plot_examples(forecasts, actuals, results_path, nexamples=2)\n",
    "\n",
    "print(\"\\n---------------- Metrics for untrained model ----------------\")\n",
    "for metric_name, value in metrics.items():\n",
    "    print(f\"{metric_name}: {value:.4f}\")\n",
    "\n",
    "\n",
    "with open(results_path / \"baseline_metrics.txt\", \"w\") as f:\n",
    "    f.write(\"---------------- Metrics for untrained model ----------------\\n\")\n",
    "    for metric_name, value in metrics.items():\n",
    "        f.write(f\"{metric_name}: {value:.4f}\\n\")\n",
    "\n",
    "# save predictions\n",
    "with open(results_path / \"baseline_predictions.pkl\", \"wb\") as f:\n",
    "    pickle.dump({\"forecasts\": forecasts, \"actuals\": actuals}, f)"
   ]
  }
 ],
 "metadata": {
  "kernelspec": {
   "display_name": "lora-qwen",
   "language": "python",
   "name": "python3"
  },
  "language_info": {
   "codemirror_mode": {
    "name": "ipython",
    "version": 3
   },
   "file_extension": ".py",
   "mimetype": "text/x-python",
   "name": "python",
   "nbconvert_exporter": "python",
   "pygments_lexer": "ipython3",
   "version": "3.10.16"
  }
 },
 "nbformat": 4,
 "nbformat_minor": 2
}
